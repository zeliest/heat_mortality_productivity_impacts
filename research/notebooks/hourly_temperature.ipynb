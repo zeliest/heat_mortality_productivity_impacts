{
 "cells": [
  {
   "cell_type": "code",
   "execution_count": 113,
   "metadata": {
    "scrolled": true
   },
   "outputs": [],
   "source": [
    "import numpy as np\n",
    "import math\n",
    "import pandas as pd\n",
    "from pandas import DataFrame,Series\n",
    "import os\n",
    "import matplotlib.pyplot as plt\n",
    "import datetime\n",
    "from datetime import datetime\n",
    "\n",
    "\n",
    "os.chdir(\"../data/\")\n"
   ]
  },
  {
   "cell_type": "code",
   "execution_count": 114,
   "metadata": {},
   "outputs": [],
   "source": [
    "hs = pd.read_csv(\"../data/stations_heatstress.csv\") \n",
    "\n"
   ]
  },
  {
   "cell_type": "code",
   "execution_count": 115,
   "metadata": {
    "collapsed": true
   },
   "outputs": [
    {
     "ename": "KeyError",
     "evalue": "'stn'",
     "output_type": "error",
     "traceback": [
      "\u001b[0;31m---------------------------------------------------------------------------\u001b[0m",
      "\u001b[0;31mKeyError\u001b[0m                                  Traceback (most recent call last)",
      "\u001b[0;32m~/miniconda3/envs/climada_env/lib/python3.8/site-packages/pandas/core/indexes/base.py\u001b[0m in \u001b[0;36mget_loc\u001b[0;34m(self, key, method, tolerance)\u001b[0m\n\u001b[1;32m   3360\u001b[0m             \u001b[0;32mtry\u001b[0m\u001b[0;34m:\u001b[0m\u001b[0;34m\u001b[0m\u001b[0;34m\u001b[0m\u001b[0m\n\u001b[0;32m-> 3361\u001b[0;31m                 \u001b[0;32mreturn\u001b[0m \u001b[0mself\u001b[0m\u001b[0;34m.\u001b[0m\u001b[0m_engine\u001b[0m\u001b[0;34m.\u001b[0m\u001b[0mget_loc\u001b[0m\u001b[0;34m(\u001b[0m\u001b[0mcasted_key\u001b[0m\u001b[0;34m)\u001b[0m\u001b[0;34m\u001b[0m\u001b[0;34m\u001b[0m\u001b[0m\n\u001b[0m\u001b[1;32m   3362\u001b[0m             \u001b[0;32mexcept\u001b[0m \u001b[0mKeyError\u001b[0m \u001b[0;32mas\u001b[0m \u001b[0merr\u001b[0m\u001b[0;34m:\u001b[0m\u001b[0;34m\u001b[0m\u001b[0;34m\u001b[0m\u001b[0m\n",
      "\u001b[0;32m~/miniconda3/envs/climada_env/lib/python3.8/site-packages/pandas/_libs/index.pyx\u001b[0m in \u001b[0;36mpandas._libs.index.IndexEngine.get_loc\u001b[0;34m()\u001b[0m\n",
      "\u001b[0;32m~/miniconda3/envs/climada_env/lib/python3.8/site-packages/pandas/_libs/index.pyx\u001b[0m in \u001b[0;36mpandas._libs.index.IndexEngine.get_loc\u001b[0;34m()\u001b[0m\n",
      "\u001b[0;32mpandas/_libs/hashtable_class_helper.pxi\u001b[0m in \u001b[0;36mpandas._libs.hashtable.PyObjectHashTable.get_item\u001b[0;34m()\u001b[0m\n",
      "\u001b[0;32mpandas/_libs/hashtable_class_helper.pxi\u001b[0m in \u001b[0;36mpandas._libs.hashtable.PyObjectHashTable.get_item\u001b[0;34m()\u001b[0m\n",
      "\u001b[0;31mKeyError\u001b[0m: 'stn'",
      "\nThe above exception was the direct cause of the following exception:\n",
      "\u001b[0;31mKeyError\u001b[0m                                  Traceback (most recent call last)",
      "\u001b[0;32m/var/folders/f5/lms0b90j1kx7kk4v552qkjqw0000gp/T/ipykernel_2277/3215565315.py\u001b[0m in \u001b[0;36m<module>\u001b[0;34m\u001b[0m\n\u001b[0;32m----> 1\u001b[0;31m \u001b[0mlen\u001b[0m\u001b[0;34m(\u001b[0m\u001b[0mhs\u001b[0m\u001b[0;34m[\u001b[0m\u001b[0mhs\u001b[0m\u001b[0;34m[\u001b[0m\u001b[0;34m'stn'\u001b[0m\u001b[0;34m]\u001b[0m\u001b[0;34m==\u001b[0m\u001b[0;34m'LUG'\u001b[0m\u001b[0;34m]\u001b[0m\u001b[0;34m)\u001b[0m\u001b[0;34m\u001b[0m\u001b[0;34m\u001b[0m\u001b[0m\n\u001b[0m",
      "\u001b[0;32m~/miniconda3/envs/climada_env/lib/python3.8/site-packages/pandas/core/frame.py\u001b[0m in \u001b[0;36m__getitem__\u001b[0;34m(self, key)\u001b[0m\n\u001b[1;32m   3456\u001b[0m             \u001b[0;32mif\u001b[0m \u001b[0mself\u001b[0m\u001b[0;34m.\u001b[0m\u001b[0mcolumns\u001b[0m\u001b[0;34m.\u001b[0m\u001b[0mnlevels\u001b[0m \u001b[0;34m>\u001b[0m \u001b[0;36m1\u001b[0m\u001b[0;34m:\u001b[0m\u001b[0;34m\u001b[0m\u001b[0;34m\u001b[0m\u001b[0m\n\u001b[1;32m   3457\u001b[0m                 \u001b[0;32mreturn\u001b[0m \u001b[0mself\u001b[0m\u001b[0;34m.\u001b[0m\u001b[0m_getitem_multilevel\u001b[0m\u001b[0;34m(\u001b[0m\u001b[0mkey\u001b[0m\u001b[0;34m)\u001b[0m\u001b[0;34m\u001b[0m\u001b[0;34m\u001b[0m\u001b[0m\n\u001b[0;32m-> 3458\u001b[0;31m             \u001b[0mindexer\u001b[0m \u001b[0;34m=\u001b[0m \u001b[0mself\u001b[0m\u001b[0;34m.\u001b[0m\u001b[0mcolumns\u001b[0m\u001b[0;34m.\u001b[0m\u001b[0mget_loc\u001b[0m\u001b[0;34m(\u001b[0m\u001b[0mkey\u001b[0m\u001b[0;34m)\u001b[0m\u001b[0;34m\u001b[0m\u001b[0;34m\u001b[0m\u001b[0m\n\u001b[0m\u001b[1;32m   3459\u001b[0m             \u001b[0;32mif\u001b[0m \u001b[0mis_integer\u001b[0m\u001b[0;34m(\u001b[0m\u001b[0mindexer\u001b[0m\u001b[0;34m)\u001b[0m\u001b[0;34m:\u001b[0m\u001b[0;34m\u001b[0m\u001b[0;34m\u001b[0m\u001b[0m\n\u001b[1;32m   3460\u001b[0m                 \u001b[0mindexer\u001b[0m \u001b[0;34m=\u001b[0m \u001b[0;34m[\u001b[0m\u001b[0mindexer\u001b[0m\u001b[0;34m]\u001b[0m\u001b[0;34m\u001b[0m\u001b[0;34m\u001b[0m\u001b[0m\n",
      "\u001b[0;32m~/miniconda3/envs/climada_env/lib/python3.8/site-packages/pandas/core/indexes/base.py\u001b[0m in \u001b[0;36mget_loc\u001b[0;34m(self, key, method, tolerance)\u001b[0m\n\u001b[1;32m   3361\u001b[0m                 \u001b[0;32mreturn\u001b[0m \u001b[0mself\u001b[0m\u001b[0;34m.\u001b[0m\u001b[0m_engine\u001b[0m\u001b[0;34m.\u001b[0m\u001b[0mget_loc\u001b[0m\u001b[0;34m(\u001b[0m\u001b[0mcasted_key\u001b[0m\u001b[0;34m)\u001b[0m\u001b[0;34m\u001b[0m\u001b[0;34m\u001b[0m\u001b[0m\n\u001b[1;32m   3362\u001b[0m             \u001b[0;32mexcept\u001b[0m \u001b[0mKeyError\u001b[0m \u001b[0;32mas\u001b[0m \u001b[0merr\u001b[0m\u001b[0;34m:\u001b[0m\u001b[0;34m\u001b[0m\u001b[0;34m\u001b[0m\u001b[0m\n\u001b[0;32m-> 3363\u001b[0;31m                 \u001b[0;32mraise\u001b[0m \u001b[0mKeyError\u001b[0m\u001b[0;34m(\u001b[0m\u001b[0mkey\u001b[0m\u001b[0;34m)\u001b[0m \u001b[0;32mfrom\u001b[0m \u001b[0merr\u001b[0m\u001b[0;34m\u001b[0m\u001b[0;34m\u001b[0m\u001b[0m\n\u001b[0m\u001b[1;32m   3364\u001b[0m \u001b[0;34m\u001b[0m\u001b[0m\n\u001b[1;32m   3365\u001b[0m         \u001b[0;32mif\u001b[0m \u001b[0mis_scalar\u001b[0m\u001b[0;34m(\u001b[0m\u001b[0mkey\u001b[0m\u001b[0;34m)\u001b[0m \u001b[0;32mand\u001b[0m \u001b[0misna\u001b[0m\u001b[0;34m(\u001b[0m\u001b[0mkey\u001b[0m\u001b[0;34m)\u001b[0m \u001b[0;32mand\u001b[0m \u001b[0;32mnot\u001b[0m \u001b[0mself\u001b[0m\u001b[0;34m.\u001b[0m\u001b[0mhasnans\u001b[0m\u001b[0;34m:\u001b[0m\u001b[0;34m\u001b[0m\u001b[0;34m\u001b[0m\u001b[0m\n",
      "\u001b[0;31mKeyError\u001b[0m: 'stn'"
     ]
    }
   ],
   "source": [
    "len(hs[hs['stn']=='LUG'])"
   ]
  },
  {
   "cell_type": "code",
   "execution_count": 116,
   "metadata": {},
   "outputs": [],
   "source": [
    "hs = hs.dropna()"
   ]
  },
  {
   "cell_type": "code",
   "execution_count": 117,
   "metadata": {
    "scrolled": true
   },
   "outputs": [
    {
     "name": "stderr",
     "output_type": "stream",
     "text": [
      "/var/folders/f5/lms0b90j1kx7kk4v552qkjqw0000gp/T/ipykernel_2277/1779217141.py:1: SettingWithCopyWarning: \n",
      "A value is trying to be set on a copy of a slice from a DataFrame.\n",
      "Try using .loc[row_indexer,col_indexer] = value instead\n",
      "\n",
      "See the caveats in the documentation: https://pandas.pydata.org/pandas-docs/stable/user_guide/indexing.html#returning-a-view-versus-a-copy\n",
      "  hs['time'] = hs['time'].astype(str)\n"
     ]
    }
   ],
   "source": [
    "hs['time'] = hs['time'].astype(str)"
   ]
  },
  {
   "cell_type": "code",
   "execution_count": 118,
   "metadata": {},
   "outputs": [],
   "source": [
    "hs = hs.rename(columns={'temp':'tre200h0', 'station':'stn'})"
   ]
  },
  {
   "cell_type": "code",
   "execution_count": 119,
   "metadata": {},
   "outputs": [
    {
     "data": {
      "text/plain": [
       "29987"
      ]
     },
     "execution_count": 119,
     "metadata": {},
     "output_type": "execute_result"
    }
   ],
   "source": [
    "len(hs[hs['stn']==station])"
   ]
  },
  {
   "cell_type": "code",
   "execution_count": 121,
   "metadata": {
    "scrolled": false
   },
   "outputs": [
    {
     "ename": "ValueError",
     "evalue": "unconverted data remains: .0",
     "output_type": "error",
     "traceback": [
      "\u001b[0;31m---------------------------------------------------------------------------\u001b[0m",
      "\u001b[0;31mValueError\u001b[0m                                Traceback (most recent call last)",
      "\u001b[0;32m/var/folders/f5/lms0b90j1kx7kk4v552qkjqw0000gp/T/ipykernel_2277/152481476.py\u001b[0m in \u001b[0;36m<module>\u001b[0;34m\u001b[0m\n\u001b[1;32m     10\u001b[0m \u001b[0;32mfor\u001b[0m \u001b[0mstation\u001b[0m \u001b[0;32min\u001b[0m \u001b[0mhourly_temp\u001b[0m\u001b[0;34m.\u001b[0m\u001b[0mstn\u001b[0m\u001b[0;34m.\u001b[0m\u001b[0munique\u001b[0m\u001b[0;34m(\u001b[0m\u001b[0;34m)\u001b[0m\u001b[0;34m:\u001b[0m\u001b[0;34m\u001b[0m\u001b[0;34m\u001b[0m\u001b[0m\n\u001b[1;32m     11\u001b[0m     \u001b[0;32mif\u001b[0m \u001b[0mstation\u001b[0m\u001b[0;34m!=\u001b[0m\u001b[0;34m'stn'\u001b[0m\u001b[0;34m:\u001b[0m\u001b[0;34m\u001b[0m\u001b[0;34m\u001b[0m\u001b[0m\n\u001b[0;32m---> 12\u001b[0;31m         \u001b[0mhourly_temp\u001b[0m\u001b[0;34m[\u001b[0m\u001b[0;34m'time'\u001b[0m\u001b[0;34m]\u001b[0m\u001b[0;34m[\u001b[0m\u001b[0mhourly_temp\u001b[0m\u001b[0;34m[\u001b[0m\u001b[0;34m'stn'\u001b[0m\u001b[0;34m]\u001b[0m\u001b[0;34m==\u001b[0m\u001b[0mstation\u001b[0m\u001b[0;34m]\u001b[0m \u001b[0;34m=\u001b[0m \u001b[0;34m[\u001b[0m\u001b[0mdatetime\u001b[0m\u001b[0;34m.\u001b[0m\u001b[0mstrptime\u001b[0m\u001b[0;34m(\u001b[0m\u001b[0mT\u001b[0m\u001b[0;34m,\u001b[0m \u001b[0;34m'%Y%m%d%H'\u001b[0m\u001b[0;34m)\u001b[0m \u001b[0;32mfor\u001b[0m \u001b[0mT\u001b[0m \u001b[0;32min\u001b[0m \u001b[0mhourly_temp\u001b[0m\u001b[0;34m[\u001b[0m\u001b[0;34m'time'\u001b[0m\u001b[0;34m]\u001b[0m\u001b[0;34m[\u001b[0m\u001b[0mhourly_temp\u001b[0m\u001b[0;34m[\u001b[0m\u001b[0;34m'stn'\u001b[0m\u001b[0;34m]\u001b[0m\u001b[0;34m==\u001b[0m\u001b[0mstation\u001b[0m\u001b[0;34m]\u001b[0m\u001b[0;34m]\u001b[0m\u001b[0;34m\u001b[0m\u001b[0;34m\u001b[0m\u001b[0m\n\u001b[0m\u001b[1;32m     13\u001b[0m         \u001b[0mt\u001b[0m \u001b[0;34m=\u001b[0m \u001b[0mnp\u001b[0m\u001b[0;34m.\u001b[0m\u001b[0marange\u001b[0m\u001b[0;34m(\u001b[0m\u001b[0;36m0\u001b[0m\u001b[0;34m,\u001b[0m\u001b[0;36m24\u001b[0m\u001b[0;34m)\u001b[0m \u001b[0;31m# 24 hours\u001b[0m\u001b[0;34m\u001b[0m\u001b[0;34m\u001b[0m\u001b[0m\n\u001b[1;32m     14\u001b[0m \u001b[0;34m\u001b[0m\u001b[0m\n",
      "\u001b[0;32m/var/folders/f5/lms0b90j1kx7kk4v552qkjqw0000gp/T/ipykernel_2277/152481476.py\u001b[0m in \u001b[0;36m<listcomp>\u001b[0;34m(.0)\u001b[0m\n\u001b[1;32m     10\u001b[0m \u001b[0;32mfor\u001b[0m \u001b[0mstation\u001b[0m \u001b[0;32min\u001b[0m \u001b[0mhourly_temp\u001b[0m\u001b[0;34m.\u001b[0m\u001b[0mstn\u001b[0m\u001b[0;34m.\u001b[0m\u001b[0munique\u001b[0m\u001b[0;34m(\u001b[0m\u001b[0;34m)\u001b[0m\u001b[0;34m:\u001b[0m\u001b[0;34m\u001b[0m\u001b[0;34m\u001b[0m\u001b[0m\n\u001b[1;32m     11\u001b[0m     \u001b[0;32mif\u001b[0m \u001b[0mstation\u001b[0m\u001b[0;34m!=\u001b[0m\u001b[0;34m'stn'\u001b[0m\u001b[0;34m:\u001b[0m\u001b[0;34m\u001b[0m\u001b[0;34m\u001b[0m\u001b[0m\n\u001b[0;32m---> 12\u001b[0;31m         \u001b[0mhourly_temp\u001b[0m\u001b[0;34m[\u001b[0m\u001b[0;34m'time'\u001b[0m\u001b[0;34m]\u001b[0m\u001b[0;34m[\u001b[0m\u001b[0mhourly_temp\u001b[0m\u001b[0;34m[\u001b[0m\u001b[0;34m'stn'\u001b[0m\u001b[0;34m]\u001b[0m\u001b[0;34m==\u001b[0m\u001b[0mstation\u001b[0m\u001b[0;34m]\u001b[0m \u001b[0;34m=\u001b[0m \u001b[0;34m[\u001b[0m\u001b[0mdatetime\u001b[0m\u001b[0;34m.\u001b[0m\u001b[0mstrptime\u001b[0m\u001b[0;34m(\u001b[0m\u001b[0mT\u001b[0m\u001b[0;34m,\u001b[0m \u001b[0;34m'%Y%m%d%H'\u001b[0m\u001b[0;34m)\u001b[0m \u001b[0;32mfor\u001b[0m \u001b[0mT\u001b[0m \u001b[0;32min\u001b[0m \u001b[0mhourly_temp\u001b[0m\u001b[0;34m[\u001b[0m\u001b[0;34m'time'\u001b[0m\u001b[0;34m]\u001b[0m\u001b[0;34m[\u001b[0m\u001b[0mhourly_temp\u001b[0m\u001b[0;34m[\u001b[0m\u001b[0;34m'stn'\u001b[0m\u001b[0;34m]\u001b[0m\u001b[0;34m==\u001b[0m\u001b[0mstation\u001b[0m\u001b[0;34m]\u001b[0m\u001b[0;34m]\u001b[0m\u001b[0;34m\u001b[0m\u001b[0;34m\u001b[0m\u001b[0m\n\u001b[0m\u001b[1;32m     13\u001b[0m         \u001b[0mt\u001b[0m \u001b[0;34m=\u001b[0m \u001b[0mnp\u001b[0m\u001b[0;34m.\u001b[0m\u001b[0marange\u001b[0m\u001b[0;34m(\u001b[0m\u001b[0;36m0\u001b[0m\u001b[0;34m,\u001b[0m\u001b[0;36m24\u001b[0m\u001b[0;34m)\u001b[0m \u001b[0;31m# 24 hours\u001b[0m\u001b[0;34m\u001b[0m\u001b[0;34m\u001b[0m\u001b[0m\n\u001b[1;32m     14\u001b[0m \u001b[0;34m\u001b[0m\u001b[0m\n",
      "\u001b[0;32m~/miniconda3/envs/climada_env/lib/python3.8/_strptime.py\u001b[0m in \u001b[0;36m_strptime_datetime\u001b[0;34m(cls, data_string, format)\u001b[0m\n\u001b[1;32m    566\u001b[0m     \"\"\"Return a class cls instance based on the input string and the\n\u001b[1;32m    567\u001b[0m     format string.\"\"\"\n\u001b[0;32m--> 568\u001b[0;31m     \u001b[0mtt\u001b[0m\u001b[0;34m,\u001b[0m \u001b[0mfraction\u001b[0m\u001b[0;34m,\u001b[0m \u001b[0mgmtoff_fraction\u001b[0m \u001b[0;34m=\u001b[0m \u001b[0m_strptime\u001b[0m\u001b[0;34m(\u001b[0m\u001b[0mdata_string\u001b[0m\u001b[0;34m,\u001b[0m \u001b[0mformat\u001b[0m\u001b[0;34m)\u001b[0m\u001b[0;34m\u001b[0m\u001b[0;34m\u001b[0m\u001b[0m\n\u001b[0m\u001b[1;32m    569\u001b[0m     \u001b[0mtzname\u001b[0m\u001b[0;34m,\u001b[0m \u001b[0mgmtoff\u001b[0m \u001b[0;34m=\u001b[0m \u001b[0mtt\u001b[0m\u001b[0;34m[\u001b[0m\u001b[0;34m-\u001b[0m\u001b[0;36m2\u001b[0m\u001b[0;34m:\u001b[0m\u001b[0;34m]\u001b[0m\u001b[0;34m\u001b[0m\u001b[0;34m\u001b[0m\u001b[0m\n\u001b[1;32m    570\u001b[0m     \u001b[0margs\u001b[0m \u001b[0;34m=\u001b[0m \u001b[0mtt\u001b[0m\u001b[0;34m[\u001b[0m\u001b[0;34m:\u001b[0m\u001b[0;36m6\u001b[0m\u001b[0;34m]\u001b[0m \u001b[0;34m+\u001b[0m \u001b[0;34m(\u001b[0m\u001b[0mfraction\u001b[0m\u001b[0;34m,\u001b[0m\u001b[0;34m)\u001b[0m\u001b[0;34m\u001b[0m\u001b[0;34m\u001b[0m\u001b[0m\n",
      "\u001b[0;32m~/miniconda3/envs/climada_env/lib/python3.8/_strptime.py\u001b[0m in \u001b[0;36m_strptime\u001b[0;34m(data_string, format)\u001b[0m\n\u001b[1;32m    350\u001b[0m                          (data_string, format))\n\u001b[1;32m    351\u001b[0m     \u001b[0;32mif\u001b[0m \u001b[0mlen\u001b[0m\u001b[0;34m(\u001b[0m\u001b[0mdata_string\u001b[0m\u001b[0;34m)\u001b[0m \u001b[0;34m!=\u001b[0m \u001b[0mfound\u001b[0m\u001b[0;34m.\u001b[0m\u001b[0mend\u001b[0m\u001b[0;34m(\u001b[0m\u001b[0;34m)\u001b[0m\u001b[0;34m:\u001b[0m\u001b[0;34m\u001b[0m\u001b[0;34m\u001b[0m\u001b[0m\n\u001b[0;32m--> 352\u001b[0;31m         raise ValueError(\"unconverted data remains: %s\" %\n\u001b[0m\u001b[1;32m    353\u001b[0m                           data_string[found.end():])\n\u001b[1;32m    354\u001b[0m \u001b[0;34m\u001b[0m\u001b[0m\n",
      "\u001b[0;31mValueError\u001b[0m: unconverted data remains: .0"
     ]
    }
   ],
   "source": [
    "hourly_temp=hs\n",
    "\n",
    "\n",
    "stations = {'Bern','Geneva','Lugano','Sion'}\n",
    "minimums = {}\n",
    "maximums = {}\n",
    "days=93 # number of days\n",
    "\n",
    "a=0 #counter to know when we change stations as the data is all after another\n",
    "for station in hourly_temp.stn.unique():\n",
    "    if station!='stn':\n",
    "        hourly_temp['time'][hourly_temp['stn']==station] = [datetime.strptime(T, '%Y%m%d%H') for T in hourly_temp['time'][hourly_temp['stn']==station]]\n",
    "        t = np.arange(0,24) # 24 hours\n",
    "\n",
    "        T = hourly_temp[hourly_temp['stn']==station]['tre200h0']\n",
    "        T = T.astype(float)\n",
    "\n",
    "        max_T = np.zeros(days)\n",
    "        min_T = np.zeros(days)\n",
    "        h_max = np.zeros(days)\n",
    "        h_min = np.zeros(days)\n",
    "\n",
    "        t0 = 0\n",
    "        for d in range(days):\n",
    "\n",
    "            Tj = T[t0:t0+24] #get hours one day at a time\n",
    "            max_T[d] = np.max(Tj) # maximum temperature of each day\n",
    "            min_T[d] = np.min(Tj) #minimum temperature of each day\n",
    "\n",
    "            h_max[d] = Series.idxmax(Tj) #hour at which the temperature is maximum\n",
    "            h_max[d] = h_max[d]-24*d-a \n",
    "            h_min[d] = Series.idxmin(Tj)\n",
    "            h_min[d] = h_min[d]-24*d-a\n",
    "\n",
    "\n",
    "            t0=t0+24 #counter of days\n",
    "\n",
    "            minimums[station]=min_T\n",
    "            maximums[station]=max_T\n",
    "\n",
    "    a=a+2233\n",
    "    \n",
    "#################################################################################################    \n",
    "\n",
    "cos=math.cos\n",
    "pi=math.pi\n",
    "SE1=0\n",
    "SE2=0\n",
    "SE3=0\n",
    "\n",
    "h_min=5. # set minimum temperature to happen at 5h\n",
    "h_max=15. # set maximum temperature to hapen at 15h\n",
    "rise= h_min\n",
    "\n",
    "t0=0\n",
    "\n",
    "\n",
    "\n",
    "#try out different models for each stations:\n",
    "\n",
    "for station in hourly_temp.stn.unique():\n",
    "    if station!='stn':\n",
    "\n",
    "        max_T=maximums[station] \n",
    "        min_T=minimums[station] \n",
    "\n",
    "\n",
    "\n",
    "        #########################################################################################################################\n",
    "        #model 1 \n",
    "\n",
    "        Tave=np.zeros(93)\n",
    "        amp=np.zeros(93)\n",
    "        Tave=(min_T+max_T)/2\n",
    "        amp=(max_T-min_T)/2\n",
    "\n",
    "        d=0\n",
    "\n",
    "        for t in range (0,2232):\n",
    "\n",
    "            h=hourly_temp.iloc[t]['time'].hour\n",
    "\n",
    "            if 0 <= h < rise or h_max < h <= 24:\n",
    "\n",
    "                if 0 <= h < rise: \n",
    "\n",
    "                    hp = h+10\n",
    "\n",
    "                if h  > h_max:\n",
    "\n",
    "                    hp = h+14\n",
    "\n",
    "                T_est = Tave[d] + amp[d] * ( cos ( pi * hp / (10.+rise) ) )\n",
    "\n",
    "\n",
    "            if rise <= h<= 14:\n",
    "\n",
    "                T_est = Tave[d] - amp[d] * ( cos ( pi* (h-rise) / (14.-rise) ) ) \n",
    "\n",
    "\n",
    "            hourly_temp.at[t,'model 1'] = T_est\n",
    "\n",
    "            if h == 23: \n",
    "                d = d+1\n",
    "\n",
    "        ###################################################################################################\n",
    "        #model 2: 3CIBSE Guide A2 Weather & Solar Data, 1982.            \n",
    "\n",
    "        d=0\n",
    "\n",
    "\n",
    "        for t in range(0,2232): \n",
    "\n",
    "            h=int(hourly_temp.iloc[t]['time'].hour)\n",
    "\n",
    "            if h < h_min:\n",
    "\n",
    "                f1  =  ( cos ( pi * ( h_min-h ) / ( 24+h_min-h_max ) ) +1 ) / 2\n",
    "\n",
    "            if h_min <= h <= h_max: \n",
    "\n",
    "                f1  =  ( cos ( pi * ( h-h_min ) / ( h_max-h_min) ) +1 ) / 2\n",
    "\n",
    "            if h_max<h:\n",
    "\n",
    "                f1  =  ( cos ( pi * ( 24+h_min-h ) / ( 24+h_min-h_max ) ) + 1 ) / 2\n",
    "\n",
    "            f2 = 1-f1\n",
    "\n",
    "\n",
    "            T_est = f1*min_T[d]+f2*max_T[d] \n",
    "\n",
    "\n",
    "            hourly_temp.at[t,'model 2']= T_est\n",
    "\n",
    "\n",
    "            if h == 23: \n",
    "                d=d+1 \n",
    "        ####################################################################################################################\n",
    "        #model 3\n",
    "\n",
    "\n",
    "        d=1\n",
    "\n",
    "        for t in range (24,len(hs[hs['stn']==station])):\n",
    "\n",
    "            h = int(hourly_temp.iloc[t]['time'].hour)\n",
    "\n",
    "\n",
    "            if  h_min <= h < h_max:\n",
    "                T_est=((max_T [d] + min_T[d]) / 2 - (max_T[d] - min_T[d]) / 2 * cos ( pi *(h-h_min)/(h_max - h_min)))\n",
    "\n",
    "            if   3 <= h < h_min:\n",
    "                T_est = ((max_T [d-1] + min_T[d]) /2)-((min_T[d] - max_T[d-1]) /2 * cos( pi*( h-h_max)/(h_min-h_max)))\n",
    "\n",
    "            if  h_max <= h <= 23:\n",
    "                T_est = (min_T[d+1] +  max_T[d]) / 2 - ( min_T[d+1] - max_T[d] )/2 *cos(pi*(h-h_max) / (h_min-h_max))\n",
    "\n",
    "            if  h == 23: \n",
    "                d = d+1 \n",
    "\n",
    "            hourly_temp.at[t,'model 3']= T_est\n",
    "\n",
    "        for t in range (24,2208):\n",
    "\n",
    "            h = int(hourly_temp.iloc[t]['time'].hour)\n",
    "\n",
    "\n",
    "            if 8 < h < 18:\n",
    "                h=h+1\n",
    "                e1[t] = float(hourly_temp.iloc[t]['model 1'])-float(hourly_temp.iloc[t]['tre200h0'])\n",
    "                e2[t] = float(hourly_temp.iloc[t]['model 2'])-float(hourly_temp.iloc[t]['tre200h0'])\n",
    "                e3[t] = float(hourly_temp.iloc[t]['model 3'])-float(hourly_temp.iloc[t]['tre200h0'])\n",
    "\n",
    "\n",
    "        E1 = np.linalg.norm(e1,2)/t\n",
    "        E2 = np.linalg.norm(e2,2)/t\n",
    "        E3 = np.linalg.norm(e3,2)/t\n",
    "\n",
    "\n",
    "        SE1=SE1+E1\n",
    "        SE2=SE2+E2\n",
    "        SE3=SE3+E3\n",
    "\n",
    "\n",
    "\n",
    "        fig, ax = plt.subplots(figsize=(14, 2))\n",
    "\n",
    "        start_day=20\n",
    "        d=30\n",
    "        time=np.arange(0,d*24)\n",
    "\n",
    "        s=start_day*24 \n",
    "        e=(start_day+d)*24\n",
    "\n",
    "        #ax.plot(time,model['T_est'][s:e],label='model 1')\n",
    "        #ax.plot(hourly_temp['time'][s:e],hourly_temp['model 2'][s:e],label='model 2',color= 'Blue',linewidth=1)\n",
    "\n",
    "        \n",
    "        \n",
    "\n",
    "        ax.plot(hourly_temp['time'][s:e],hourly_temp['model 3'][s:e],label=\"\".join(['model, RMSE 8-18h =', str(np.round(SE3,3))]),color= 'Red',linewidth=1)\n",
    "\n",
    "        s=s+t0\n",
    "        e=e+t0\n",
    "\n",
    "        ax.plot(hourly_temp['time'][s:e],pd.to_numeric(hourly_temp['tre200h0'][s:e]),color='Black',label='observations',linewidth=1, linestyle='--')\n",
    "        ax.legend(loc='center left',bbox_to_anchor=(1, 0.5))\n",
    "        \n",
    "        #ax.set_xlabel('Time [h]')\n",
    "        ax.set_ylabel('Temperature [$^\\circ$C]')\n",
    "        ax.set_title(station)\n",
    "        #plt.xticks(rotation=60)\n",
    "        fig.autofmt_xdate()\n",
    "        plt.savefig(''.join(['../figures/',station,'_','hourly_temperature.pdf']),bbox_inches='tight')   \n",
    "\n",
    "\n",
    "        e1 = np.zeros(2232)\n",
    "        e2 = np.zeros(2232)\n",
    "        e3 = np.zeros(2232)\n",
    "\n",
    "\n",
    "        print('the root mean square error for model 1 is:',E1)\n",
    "        print('the  root mean square error  for model 2 is:',E2)\n",
    "        print('the  root mean square error  for model 3 is:',E3)\n",
    "    \n",
    "        t0=t0+2233\n",
    "##########################################################\n",
    "#average error of each model for the four stations\n",
    "\n",
    "SE1=SE1/4\n",
    "SE2=SE2/4    \n",
    "SE3=SE3/4    \n",
    "\n",
    "print('the root mean square error for model 1 is:',E1)\n",
    "print('the  root mean square error  for model 2 is:',E2)\n",
    "print('the  root mean square error  for model 3 is:',E3)\n",
    "\n",
    "#########################################################\n",
    "\n"
   ]
  },
  {
   "cell_type": "code",
   "execution_count": 67,
   "metadata": {},
   "outputs": [
    {
     "data": {
      "text/plain": [
       "480"
      ]
     },
     "execution_count": 67,
     "metadata": {},
     "output_type": "execute_result"
    }
   ],
   "source": [
    "len(np.arange(e-s))"
   ]
  },
  {
   "cell_type": "code",
   "execution_count": 41,
   "metadata": {
    "collapsed": true
   },
   "outputs": [
    {
     "data": {
      "text/html": [
       "<div>\n",
       "<style scoped>\n",
       "    .dataframe tbody tr th:only-of-type {\n",
       "        vertical-align: middle;\n",
       "    }\n",
       "\n",
       "    .dataframe tbody tr th {\n",
       "        vertical-align: top;\n",
       "    }\n",
       "\n",
       "    .dataframe thead th {\n",
       "        text-align: right;\n",
       "    }\n",
       "</style>\n",
       "<table border=\"1\" class=\"dataframe\">\n",
       "  <thead>\n",
       "    <tr style=\"text-align: right;\">\n",
       "      <th></th>\n",
       "      <th>stn</th>\n",
       "      <th>time</th>\n",
       "      <th>tre200h0</th>\n",
       "    </tr>\n",
       "  </thead>\n",
       "  <tbody>\n",
       "    <tr>\n",
       "      <th>0</th>\n",
       "      <td>BER</td>\n",
       "      <td>2018062100</td>\n",
       "      <td>17.3</td>\n",
       "    </tr>\n",
       "    <tr>\n",
       "      <th>1</th>\n",
       "      <td>BER</td>\n",
       "      <td>2018062101</td>\n",
       "      <td>16.4</td>\n",
       "    </tr>\n",
       "    <tr>\n",
       "      <th>2</th>\n",
       "      <td>BER</td>\n",
       "      <td>2018062102</td>\n",
       "      <td>16.4</td>\n",
       "    </tr>\n",
       "    <tr>\n",
       "      <th>3</th>\n",
       "      <td>BER</td>\n",
       "      <td>2018062103</td>\n",
       "      <td>16.2</td>\n",
       "    </tr>\n",
       "    <tr>\n",
       "      <th>4</th>\n",
       "      <td>BER</td>\n",
       "      <td>2018062104</td>\n",
       "      <td>16.0</td>\n",
       "    </tr>\n",
       "    <tr>\n",
       "      <th>...</th>\n",
       "      <td>...</td>\n",
       "      <td>...</td>\n",
       "      <td>...</td>\n",
       "    </tr>\n",
       "    <tr>\n",
       "      <th>8926</th>\n",
       "      <td>SIO</td>\n",
       "      <td>2018092119</td>\n",
       "      <td>21.3</td>\n",
       "    </tr>\n",
       "    <tr>\n",
       "      <th>8927</th>\n",
       "      <td>SIO</td>\n",
       "      <td>2018092120</td>\n",
       "      <td>20.9</td>\n",
       "    </tr>\n",
       "    <tr>\n",
       "      <th>8928</th>\n",
       "      <td>SIO</td>\n",
       "      <td>2018092121</td>\n",
       "      <td>19.8</td>\n",
       "    </tr>\n",
       "    <tr>\n",
       "      <th>8929</th>\n",
       "      <td>SIO</td>\n",
       "      <td>2018092122</td>\n",
       "      <td>19.4</td>\n",
       "    </tr>\n",
       "    <tr>\n",
       "      <th>8930</th>\n",
       "      <td>SIO</td>\n",
       "      <td>2018092123</td>\n",
       "      <td>18.2</td>\n",
       "    </tr>\n",
       "  </tbody>\n",
       "</table>\n",
       "<p>8931 rows × 3 columns</p>\n",
       "</div>"
      ],
      "text/plain": [
       "      stn        time tre200h0\n",
       "0     BER  2018062100     17.3\n",
       "1     BER  2018062101     16.4\n",
       "2     BER  2018062102     16.4\n",
       "3     BER  2018062103     16.2\n",
       "4     BER  2018062104     16.0\n",
       "...   ...         ...      ...\n",
       "8926  SIO  2018092119     21.3\n",
       "8927  SIO  2018092120     20.9\n",
       "8928  SIO  2018092121     19.8\n",
       "8929  SIO  2018092122     19.4\n",
       "8930  SIO  2018092123     18.2\n",
       "\n",
       "[8931 rows x 3 columns]"
      ]
     },
     "execution_count": 41,
     "metadata": {},
     "output_type": "execute_result"
    }
   ],
   "source": [
    "hourly_temp"
   ]
  },
  {
   "cell_type": "code",
   "execution_count": 69,
   "metadata": {},
   "outputs": [],
   "source": [
    "from datetime import datetime\n"
   ]
  },
  {
   "cell_type": "code",
   "execution_count": 67,
   "metadata": {},
   "outputs": [],
   "source": [
    "def make_date(date_str):\n",
    "    date = \"\".join([date_str[0:4],'-',date_str[4:6],'-',date_str[6:8],\n",
    "            '-',date_str[8:10]])\n",
    "    dt = datetime.fromisoformat(date)"
   ]
  },
  {
   "cell_type": "code",
   "execution_count": 70,
   "metadata": {},
   "outputs": [
    {
     "ename": "ValueError",
     "evalue": "Invalid isoformat string: 'time---'",
     "output_type": "error",
     "traceback": [
      "\u001b[0;31m---------------------------------------------------------------------------\u001b[0m",
      "\u001b[0;31mValueError\u001b[0m                                Traceback (most recent call last)",
      "\u001b[0;32m/var/folders/f5/lms0b90j1kx7kk4v552qkjqw0000gp/T/ipykernel_74180/342550000.py\u001b[0m in \u001b[0;36m<module>\u001b[0;34m\u001b[0m\n\u001b[0;32m----> 1\u001b[0;31m \u001b[0;34m[\u001b[0m\u001b[0mmake_date\u001b[0m\u001b[0;34m(\u001b[0m\u001b[0mdate_str\u001b[0m\u001b[0;34m)\u001b[0m \u001b[0;32mfor\u001b[0m \u001b[0mdate_str\u001b[0m \u001b[0;32min\u001b[0m \u001b[0mhourly_temp\u001b[0m\u001b[0;34m[\u001b[0m\u001b[0;34m'time'\u001b[0m\u001b[0;34m]\u001b[0m\u001b[0;34m]\u001b[0m\u001b[0;34m\u001b[0m\u001b[0;34m\u001b[0m\u001b[0m\n\u001b[0m",
      "\u001b[0;32m/var/folders/f5/lms0b90j1kx7kk4v552qkjqw0000gp/T/ipykernel_74180/342550000.py\u001b[0m in \u001b[0;36m<listcomp>\u001b[0;34m(.0)\u001b[0m\n\u001b[0;32m----> 1\u001b[0;31m \u001b[0;34m[\u001b[0m\u001b[0mmake_date\u001b[0m\u001b[0;34m(\u001b[0m\u001b[0mdate_str\u001b[0m\u001b[0;34m)\u001b[0m \u001b[0;32mfor\u001b[0m \u001b[0mdate_str\u001b[0m \u001b[0;32min\u001b[0m \u001b[0mhourly_temp\u001b[0m\u001b[0;34m[\u001b[0m\u001b[0;34m'time'\u001b[0m\u001b[0;34m]\u001b[0m\u001b[0;34m]\u001b[0m\u001b[0;34m\u001b[0m\u001b[0;34m\u001b[0m\u001b[0m\n\u001b[0m",
      "\u001b[0;32m/var/folders/f5/lms0b90j1kx7kk4v552qkjqw0000gp/T/ipykernel_74180/3971148116.py\u001b[0m in \u001b[0;36mmake_date\u001b[0;34m(date_str)\u001b[0m\n\u001b[1;32m      2\u001b[0m     date = \"\".join([date_str[0:4],'-',date_str[4:6],'-',date_str[6:8],\n\u001b[1;32m      3\u001b[0m             '-',date_str[8:10]])\n\u001b[0;32m----> 4\u001b[0;31m     \u001b[0mdt\u001b[0m \u001b[0;34m=\u001b[0m \u001b[0mdatetime\u001b[0m\u001b[0;34m.\u001b[0m\u001b[0mfromisoformat\u001b[0m\u001b[0;34m(\u001b[0m\u001b[0mdate\u001b[0m\u001b[0;34m)\u001b[0m\u001b[0;34m\u001b[0m\u001b[0;34m\u001b[0m\u001b[0m\n\u001b[0m",
      "\u001b[0;31mValueError\u001b[0m: Invalid isoformat string: 'time---'"
     ]
    }
   ],
   "source": [
    "[make_date(date_str) for date_str in hourly_temp['time']]"
   ]
  },
  {
   "cell_type": "code",
   "execution_count": 57,
   "metadata": {},
   "outputs": [],
   "source": [
    "date_str = hourly_temp['time'][4]\n",
    "date =\"\".join([date_str[0:4],'-',date_str[4:6],'-',date_str[6:8],\n",
    "            '-',date_str[8:10]])"
   ]
  },
  {
   "cell_type": "code",
   "execution_count": 63,
   "metadata": {},
   "outputs": [
    {
     "data": {
      "text/plain": [
       "0       2018062100\n",
       "1       2018062101\n",
       "2       2018062102\n",
       "3       2018062103\n",
       "4       2018062104\n",
       "           ...    \n",
       "8926    2018092119\n",
       "8927    2018092120\n",
       "8928    2018092121\n",
       "8929    2018092122\n",
       "8930    2018092123\n",
       "Name: time, Length: 8931, dtype: object"
      ]
     },
     "execution_count": 63,
     "metadata": {},
     "output_type": "execute_result"
    }
   ],
   "source": [
    "hourly_temp['time']"
   ]
  }
 ],
 "metadata": {
  "kernelspec": {
   "display_name": "Python 3 (ipykernel)",
   "language": "python",
   "name": "python3"
  },
  "language_info": {
   "codemirror_mode": {
    "name": "ipython",
    "version": 3
   },
   "file_extension": ".py",
   "mimetype": "text/x-python",
   "name": "python",
   "nbconvert_exporter": "python",
   "pygments_lexer": "ipython3",
   "version": "3.8.10"
  }
 },
 "nbformat": 4,
 "nbformat_minor": 2
}
