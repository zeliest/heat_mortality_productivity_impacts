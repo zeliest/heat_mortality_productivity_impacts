{
 "cells": [
  {
   "cell_type": "code",
   "execution_count": 1,
   "id": "convenient-demographic",
   "metadata": {},
   "outputs": [],
   "source": [
    "import pandas as pd"
   ]
  },
  {
   "cell_type": "code",
   "execution_count": 2,
   "id": "medieval-baking",
   "metadata": {},
   "outputs": [],
   "source": [
    "df = pd.read_csv('/Users/zeliestalhanske/Downloads/ts-q-01.04.02.01.31.csv', sep=';')"
   ]
  },
  {
   "cell_type": "code",
   "execution_count": 3,
   "id": "juvenile-compression",
   "metadata": {},
   "outputs": [
    {
     "data": {
      "text/plain": [
       "array(['_T', 'Y0T4', 'Y10T14', 'Y15T19', 'Y20T24', 'Y25T29', 'Y30T34',\n",
       "       'Y35T39', 'Y40T44', 'Y45T49', 'Y50T54', 'Y55T59', 'Y60T64',\n",
       "       'Y65T69', 'Y70T74', 'Y75T79', 'Y80T84', 'Y85T89', 'Y_GE90', 'Y5T9'],\n",
       "      dtype=object)"
      ]
     },
     "execution_count": 3,
     "metadata": {},
     "output_type": "execute_result"
    }
   ],
   "source": [
    "df.AGE.unique()"
   ]
  },
  {
   "cell_type": "code",
   "execution_count": 4,
   "id": "found-payday",
   "metadata": {},
   "outputs": [],
   "source": [
    "df = df[df['GEO']=='CH']"
   ]
  },
  {
   "cell_type": "code",
   "execution_count": 5,
   "id": "distinct-assignment",
   "metadata": {},
   "outputs": [],
   "source": [
    "df.Obs_value = df.Obs_value/7"
   ]
  },
  {
   "cell_type": "code",
   "execution_count": 6,
   "id": "pacific-bargain",
   "metadata": {},
   "outputs": [
    {
     "data": {
      "text/plain": [
       "array(['_T', 'Y0T4', 'Y10T14', 'Y15T19', 'Y20T24', 'Y25T29', 'Y30T34',\n",
       "       'Y35T39', 'Y40T44', 'Y45T49', 'Y50T54', 'Y55T59', 'Y60T64',\n",
       "       'Y65T69', 'Y70T74', 'Y75T79', 'Y80T84', 'Y85T89', 'Y_GE90', 'Y5T9'],\n",
       "      dtype=object)"
      ]
     },
     "execution_count": 6,
     "metadata": {},
     "output_type": "execute_result"
    }
   ],
   "source": [
    "df.AGE.unique()"
   ]
  },
  {
   "cell_type": "code",
   "execution_count": 7,
   "id": "built-learning",
   "metadata": {},
   "outputs": [],
   "source": [
    "df = df.replace(dict.fromkeys(['Y0T4','Y5T9', 'Y10T14', 'Y15T19', 'Y20T24', 'Y25T29', 'Y30T34',\n",
    "       'Y35T39', 'Y40T44', 'Y45T49', 'Y50T54', 'Y55T59', 'Y60T64',\n",
    "       'Y65T69', 'Y70T74'], 'Under 75'))"
   ]
  },
  {
   "cell_type": "code",
   "execution_count": 8,
   "id": "quality-convenience",
   "metadata": {},
   "outputs": [],
   "source": [
    "df = df.replace(dict.fromkeys(['Y75T79', 'Y80T84', 'Y85T89', 'Y_GE90'], 'Over 75'))"
   ]
  },
  {
   "cell_type": "code",
   "execution_count": 9,
   "id": "wound-corner",
   "metadata": {},
   "outputs": [],
   "source": [
    "df = df[df.AGE != '_T']\n",
    "df = df[df.SEX == 'T']"
   ]
  },
  {
   "cell_type": "code",
   "execution_count": 10,
   "id": "stunning-advertising",
   "metadata": {},
   "outputs": [],
   "source": [
    "df = df.groupby(['TIME_PERIOD', 'GEO', 'AGE']).sum().reset_index()\n",
    "df = df.drop(columns='Obs_status')"
   ]
  },
  {
   "cell_type": "code",
   "execution_count": 11,
   "id": "fourth-allah",
   "metadata": {},
   "outputs": [
    {
     "data": {
      "text/html": [
       "<div>\n",
       "<style scoped>\n",
       "    .dataframe tbody tr th:only-of-type {\n",
       "        vertical-align: middle;\n",
       "    }\n",
       "\n",
       "    .dataframe tbody tr th {\n",
       "        vertical-align: top;\n",
       "    }\n",
       "\n",
       "    .dataframe thead th {\n",
       "        text-align: right;\n",
       "    }\n",
       "</style>\n",
       "<table border=\"1\" class=\"dataframe\">\n",
       "  <thead>\n",
       "    <tr style=\"text-align: right;\">\n",
       "      <th></th>\n",
       "      <th>TIME_PERIOD</th>\n",
       "      <th>GEO</th>\n",
       "      <th>AGE</th>\n",
       "      <th>Obs_value</th>\n",
       "    </tr>\n",
       "  </thead>\n",
       "  <tbody>\n",
       "    <tr>\n",
       "      <th>0</th>\n",
       "      <td>2000-W01</td>\n",
       "      <td>CH</td>\n",
       "      <td>Over 75</td>\n",
       "      <td>166.714286</td>\n",
       "    </tr>\n",
       "    <tr>\n",
       "      <th>1</th>\n",
       "      <td>2000-W01</td>\n",
       "      <td>CH</td>\n",
       "      <td>Under 75</td>\n",
       "      <td>63.428571</td>\n",
       "    </tr>\n",
       "    <tr>\n",
       "      <th>2</th>\n",
       "      <td>2000-W02</td>\n",
       "      <td>CH</td>\n",
       "      <td>Over 75</td>\n",
       "      <td>179.000000</td>\n",
       "    </tr>\n",
       "    <tr>\n",
       "      <th>3</th>\n",
       "      <td>2000-W02</td>\n",
       "      <td>CH</td>\n",
       "      <td>Under 75</td>\n",
       "      <td>63.571429</td>\n",
       "    </tr>\n",
       "    <tr>\n",
       "      <th>4</th>\n",
       "      <td>2000-W03</td>\n",
       "      <td>CH</td>\n",
       "      <td>Over 75</td>\n",
       "      <td>161.428571</td>\n",
       "    </tr>\n",
       "    <tr>\n",
       "      <th>...</th>\n",
       "      <td>...</td>\n",
       "      <td>...</td>\n",
       "      <td>...</td>\n",
       "      <td>...</td>\n",
       "    </tr>\n",
       "    <tr>\n",
       "      <th>2081</th>\n",
       "      <td>2019-W50</td>\n",
       "      <td>CH</td>\n",
       "      <td>Under 75</td>\n",
       "      <td>54.142857</td>\n",
       "    </tr>\n",
       "    <tr>\n",
       "      <th>2082</th>\n",
       "      <td>2019-W51</td>\n",
       "      <td>CH</td>\n",
       "      <td>Over 75</td>\n",
       "      <td>146.428571</td>\n",
       "    </tr>\n",
       "    <tr>\n",
       "      <th>2083</th>\n",
       "      <td>2019-W51</td>\n",
       "      <td>CH</td>\n",
       "      <td>Under 75</td>\n",
       "      <td>53.714286</td>\n",
       "    </tr>\n",
       "    <tr>\n",
       "      <th>2084</th>\n",
       "      <td>2019-W52</td>\n",
       "      <td>CH</td>\n",
       "      <td>Over 75</td>\n",
       "      <td>140.142857</td>\n",
       "    </tr>\n",
       "    <tr>\n",
       "      <th>2085</th>\n",
       "      <td>2019-W52</td>\n",
       "      <td>CH</td>\n",
       "      <td>Under 75</td>\n",
       "      <td>49.714286</td>\n",
       "    </tr>\n",
       "  </tbody>\n",
       "</table>\n",
       "<p>2086 rows × 4 columns</p>\n",
       "</div>"
      ],
      "text/plain": [
       "     TIME_PERIOD GEO       AGE   Obs_value\n",
       "0       2000-W01  CH   Over 75  166.714286\n",
       "1       2000-W01  CH  Under 75   63.428571\n",
       "2       2000-W02  CH   Over 75  179.000000\n",
       "3       2000-W02  CH  Under 75   63.571429\n",
       "4       2000-W03  CH   Over 75  161.428571\n",
       "...          ...  ..       ...         ...\n",
       "2081    2019-W50  CH  Under 75   54.142857\n",
       "2082    2019-W51  CH   Over 75  146.428571\n",
       "2083    2019-W51  CH  Under 75   53.714286\n",
       "2084    2019-W52  CH   Over 75  140.142857\n",
       "2085    2019-W52  CH  Under 75   49.714286\n",
       "\n",
       "[2086 rows x 4 columns]"
      ]
     },
     "execution_count": 11,
     "metadata": {},
     "output_type": "execute_result"
    }
   ],
   "source": [
    "df"
   ]
  },
  {
   "cell_type": "code",
   "execution_count": 12,
   "id": "olive-shopper",
   "metadata": {},
   "outputs": [],
   "source": [
    "df['WEEK'] = df.TIME_PERIOD.str.split(\"-\",expand=True,)[1]"
   ]
  },
  {
   "cell_type": "code",
   "execution_count": 13,
   "id": "received-casting",
   "metadata": {},
   "outputs": [],
   "source": [
    "df = df.groupby(['WEEK', 'AGE']).mean().reset_index()\n",
    "df['WEEK'] = df['WEEK'].str.replace('W', '')\n",
    "df['WEEK'] = df['WEEK'].str.replace('0', '')"
   ]
  },
  {
   "cell_type": "code",
   "execution_count": 14,
   "id": "actual-scene",
   "metadata": {},
   "outputs": [],
   "source": [
    "df['WEEK'] = df['WEEK'].astype('int')"
   ]
  },
  {
   "cell_type": "code",
   "execution_count": 25,
   "id": "committed-incentive",
   "metadata": {},
   "outputs": [],
   "source": [
    "df_summer = df[(df['WEEK']<43)&(df['WEEK']>17)]"
   ]
  },
  {
   "cell_type": "code",
   "execution_count": 26,
   "id": "peripheral-inspection",
   "metadata": {},
   "outputs": [],
   "source": [
    "df_summer = df_summer.groupby('AGE').mean().reset_index()"
   ]
  },
  {
   "cell_type": "code",
   "execution_count": 27,
   "id": "alternate-differential",
   "metadata": {},
   "outputs": [
    {
     "data": {
      "text/html": [
       "<div>\n",
       "<style scoped>\n",
       "    .dataframe tbody tr th:only-of-type {\n",
       "        vertical-align: middle;\n",
       "    }\n",
       "\n",
       "    .dataframe tbody tr th {\n",
       "        vertical-align: top;\n",
       "    }\n",
       "\n",
       "    .dataframe thead th {\n",
       "        text-align: right;\n",
       "    }\n",
       "</style>\n",
       "<table border=\"1\" class=\"dataframe\">\n",
       "  <thead>\n",
       "    <tr style=\"text-align: right;\">\n",
       "      <th></th>\n",
       "      <th>WEEK</th>\n",
       "      <th>Obs_value</th>\n",
       "    </tr>\n",
       "    <tr>\n",
       "      <th>AGE</th>\n",
       "      <th></th>\n",
       "      <th></th>\n",
       "    </tr>\n",
       "  </thead>\n",
       "  <tbody>\n",
       "    <tr>\n",
       "      <th>Over 75</th>\n",
       "      <td>24.45283</td>\n",
       "      <td>122.200809</td>\n",
       "    </tr>\n",
       "    <tr>\n",
       "      <th>Under 75</th>\n",
       "      <td>24.45283</td>\n",
       "      <td>51.409344</td>\n",
       "    </tr>\n",
       "  </tbody>\n",
       "</table>\n",
       "</div>"
      ],
      "text/plain": [
       "              WEEK   Obs_value\n",
       "AGE                           \n",
       "Over 75   24.45283  122.200809\n",
       "Under 75  24.45283   51.409344"
      ]
     },
     "execution_count": 27,
     "metadata": {},
     "output_type": "execute_result"
    }
   ],
   "source": [
    "df.groupby('AGE').mean()"
   ]
  },
  {
   "cell_type": "code",
   "execution_count": 28,
   "id": "appointed-frontier",
   "metadata": {},
   "outputs": [
    {
     "data": {
      "text/html": [
       "<div>\n",
       "<style scoped>\n",
       "    .dataframe tbody tr th:only-of-type {\n",
       "        vertical-align: middle;\n",
       "    }\n",
       "\n",
       "    .dataframe tbody tr th {\n",
       "        vertical-align: top;\n",
       "    }\n",
       "\n",
       "    .dataframe thead th {\n",
       "        text-align: right;\n",
       "    }\n",
       "</style>\n",
       "<table border=\"1\" class=\"dataframe\">\n",
       "  <thead>\n",
       "    <tr style=\"text-align: right;\">\n",
       "      <th></th>\n",
       "      <th>AGE</th>\n",
       "      <th>WEEK</th>\n",
       "      <th>Obs_value</th>\n",
       "    </tr>\n",
       "  </thead>\n",
       "  <tbody>\n",
       "    <tr>\n",
       "      <th>0</th>\n",
       "      <td>Over 75</td>\n",
       "      <td>30</td>\n",
       "      <td>111.789935</td>\n",
       "    </tr>\n",
       "    <tr>\n",
       "      <th>1</th>\n",
       "      <td>Under 75</td>\n",
       "      <td>30</td>\n",
       "      <td>50.169156</td>\n",
       "    </tr>\n",
       "  </tbody>\n",
       "</table>\n",
       "</div>"
      ],
      "text/plain": [
       "        AGE  WEEK   Obs_value\n",
       "0   Over 75    30  111.789935\n",
       "1  Under 75    30   50.169156"
      ]
     },
     "execution_count": 28,
     "metadata": {},
     "output_type": "execute_result"
    }
   ],
   "source": [
    "df_summer"
   ]
  },
  {
   "cell_type": "code",
   "execution_count": 19,
   "id": "abroad-cleaners",
   "metadata": {},
   "outputs": [],
   "source": [
    "df_summer = df_summer.drop(columns='WEEK')"
   ]
  },
  {
   "cell_type": "code",
   "execution_count": 20,
   "id": "interesting-efficiency",
   "metadata": {},
   "outputs": [],
   "source": [
    "df_summer.columns = ['category','daily_deaths']"
   ]
  },
  {
   "cell_type": "code",
   "execution_count": 21,
   "id": "funded-offer",
   "metadata": {},
   "outputs": [],
   "source": [
    "df_summer['canton'] = ['CH','CH']"
   ]
  },
  {
   "cell_type": "code",
   "execution_count": 23,
   "id": "informed-engineer",
   "metadata": {},
   "outputs": [
    {
     "data": {
      "text/html": [
       "<div>\n",
       "<style scoped>\n",
       "    .dataframe tbody tr th:only-of-type {\n",
       "        vertical-align: middle;\n",
       "    }\n",
       "\n",
       "    .dataframe tbody tr th {\n",
       "        vertical-align: top;\n",
       "    }\n",
       "\n",
       "    .dataframe thead th {\n",
       "        text-align: right;\n",
       "    }\n",
       "</style>\n",
       "<table border=\"1\" class=\"dataframe\">\n",
       "  <thead>\n",
       "    <tr style=\"text-align: right;\">\n",
       "      <th></th>\n",
       "      <th>category</th>\n",
       "      <th>daily_deaths</th>\n",
       "      <th>canton</th>\n",
       "    </tr>\n",
       "  </thead>\n",
       "  <tbody>\n",
       "    <tr>\n",
       "      <th>0</th>\n",
       "      <td>Over 75</td>\n",
       "      <td>112.742857</td>\n",
       "      <td>CH</td>\n",
       "    </tr>\n",
       "    <tr>\n",
       "      <th>1</th>\n",
       "      <td>Under 75</td>\n",
       "      <td>50.100311</td>\n",
       "      <td>CH</td>\n",
       "    </tr>\n",
       "  </tbody>\n",
       "</table>\n",
       "</div>"
      ],
      "text/plain": [
       "   category  daily_deaths canton\n",
       "0   Over 75    112.742857     CH\n",
       "1  Under 75     50.100311     CH"
      ]
     },
     "execution_count": 23,
     "metadata": {},
     "output_type": "execute_result"
    }
   ],
   "source": [
    "df_summer"
   ]
  },
  {
   "cell_type": "code",
   "execution_count": 24,
   "id": "subject-transport",
   "metadata": {},
   "outputs": [],
   "source": [
    "df_summer.to_excel('../../input_data/impact_functions/summer_deaths.xlsx')"
   ]
  }
 ],
 "metadata": {
  "kernelspec": {
   "display_name": "Python 3",
   "language": "python",
   "name": "python3"
  },
  "language_info": {
   "codemirror_mode": {
    "name": "ipython",
    "version": 3
   },
   "file_extension": ".py",
   "mimetype": "text/x-python",
   "name": "python",
   "nbconvert_exporter": "python",
   "pygments_lexer": "ipython3",
   "version": "3.8.8"
  }
 },
 "nbformat": 4,
 "nbformat_minor": 5
}
