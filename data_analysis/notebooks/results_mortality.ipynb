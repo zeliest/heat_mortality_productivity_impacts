{
 "cells": [
  {
   "cell_type": "markdown",
   "metadata": {},
   "source": [
    "## Show results - Test "
   ]
  },
  {
   "cell_type": "code",
   "execution_count": 1,
   "metadata": {
    "scrolled": true
   },
   "outputs": [
    {
     "name": "stderr",
     "output_type": "stream",
     "text": [
      "In /Users/zeliestalhanske/anaconda3/envs/climada_env/lib/python3.7/site-packages/matplotlib/mpl-data/stylelib/_classic_test.mplstyle: \n",
      "The text.latex.preview rcparam was deprecated in Matplotlib 3.3 and will be removed two minor releases later.\n",
      "In /Users/zeliestalhanske/anaconda3/envs/climada_env/lib/python3.7/site-packages/matplotlib/mpl-data/stylelib/_classic_test.mplstyle: \n",
      "The mathtext.fallback_to_cm rcparam was deprecated in Matplotlib 3.3 and will be removed two minor releases later.\n",
      "In /Users/zeliestalhanske/anaconda3/envs/climada_env/lib/python3.7/site-packages/matplotlib/mpl-data/stylelib/_classic_test.mplstyle: Support for setting the 'mathtext.fallback_to_cm' rcParam is deprecated since 3.3 and will be removed two minor releases later; use 'mathtext.fallback : 'cm' instead.\n",
      "In /Users/zeliestalhanske/anaconda3/envs/climada_env/lib/python3.7/site-packages/matplotlib/mpl-data/stylelib/_classic_test.mplstyle: \n",
      "The validate_bool_maybe_none function was deprecated in Matplotlib 3.3 and will be removed two minor releases later.\n",
      "In /Users/zeliestalhanske/anaconda3/envs/climada_env/lib/python3.7/site-packages/matplotlib/mpl-data/stylelib/_classic_test.mplstyle: \n",
      "The savefig.jpeg_quality rcparam was deprecated in Matplotlib 3.3 and will be removed two minor releases later.\n",
      "In /Users/zeliestalhanske/anaconda3/envs/climada_env/lib/python3.7/site-packages/matplotlib/mpl-data/stylelib/_classic_test.mplstyle: \n",
      "The keymap.all_axes rcparam was deprecated in Matplotlib 3.3 and will be removed two minor releases later.\n",
      "In /Users/zeliestalhanske/anaconda3/envs/climada_env/lib/python3.7/site-packages/matplotlib/mpl-data/stylelib/_classic_test.mplstyle: \n",
      "The animation.avconv_path rcparam was deprecated in Matplotlib 3.3 and will be removed two minor releases later.\n",
      "In /Users/zeliestalhanske/anaconda3/envs/climada_env/lib/python3.7/site-packages/matplotlib/mpl-data/stylelib/_classic_test.mplstyle: \n",
      "The animation.avconv_args rcparam was deprecated in Matplotlib 3.3 and will be removed two minor releases later.\n"
     ]
    },
    {
     "name": "stdout",
     "output_type": "stream",
     "text": [
      "2020-10-27 14:55:41,387 - climada - DEBUG - Loading default config file: /Users/zeliestalhanske/Documents/GitHub/climada_python/climada/conf/defaults.conf\n"
     ]
    }
   ],
   "source": [
    "import numpy as np\n",
    "import pandas as pd\n",
    "#from pandas import DataFrame\n",
    "import matplotlib.pyplot as plt\n",
    "import matplotlib.colors as colors\n",
    "\n",
    "%matplotlib inline\n",
    "import pickle\n",
    "import palettable\n",
    "from scipy.sparse import csr_matrix, vstack\n",
    "from scipy.optimize import curve_fit\n",
    "import sys \n",
    "from netCDF4 import num2date, date2num\n",
    "import xarray as xr\n",
    "from netCDF4 import Dataset\n",
    "\n",
    "sys.path.append('../../')\n",
    "\n",
    "from climada.engine import Impact\n",
    "from climada.entity import Exposures\n",
    "from climada.hazard import Hazard\n",
    "\n",
    "from src.impact_calculation.impact_heat import *\n",
    "from src.util.plots import *\n",
    "\n",
    "fig_dir = '../figures/'"
   ]
  },
  {
   "cell_type": "markdown",
   "metadata": {},
   "source": [
    "## Damage cost for each scenario, year and labor type"
   ]
  },
  {
   "cell_type": "code",
   "execution_count": 2,
   "metadata": {},
   "outputs": [],
   "source": [
    "pickle_in = \\\n",
    "open('../../output/mortality_results/impact_100mc.pickle','rb')\n",
    "impacts_mortality = pickle.load(pickle_in)\n",
    "\n",
    "agg_impacts_mc = impacts_mortality.agg_impacts_mc\n",
    "median_impact_matrices = impacts_mortality.median_impact_matrices\n"
   ]
  },
  {
   "cell_type": "code",
   "execution_count": 3,
   "metadata": {},
   "outputs": [
    {
     "data": {
      "image/png": "[encoded data removed]",
      "text/plain": [
       "<Figure size 432x288 with 1 Axes>"
      ]
     },
     "metadata": {
      "needs_background": "light"
     },
     "output_type": "display_data"
    },
    {
     "data": {
      "image/png": "[encoded data removed]",
      "text/plain": [
       "<Figure size 432x288 with 1 Axes>"
      ]
     },
     "metadata": {
      "needs_background": "light"
     },
     "output_type": "display_data"
    }
   ],
   "source": [
    "plot_impacts_heat(agg_impacts_mc, 'Annual Heat Related Death (#)', color=['lightblue', 'royalblue'])\n",
    "\n",
    "#plt.savefig(''.join([fig_dir,'loss_ch/predicted_loss_2020_2065_werror.pdf']),bbox_inches='tight')\n"
   ]
  },
  {
   "cell_type": "markdown",
   "metadata": {},
   "source": [
    "## Spatial Impact"
   ]
  },
  {
   "cell_type": "code",
   "execution_count": 4,
   "metadata": {},
   "outputs": [
    {
     "name": "stdout",
     "output_type": "stream",
     "text": [
      "2020-10-27 14:55:43,821 - climada.entity.exposures.base - INFO - Reading ../../input_data/exposures/exposures_mortality_ch_O.h5\n"
     ]
    }
   ],
   "source": [
    "category = 'O'\n",
    "cm = palettable.scientific.sequential.LaJolla_20.mpl_colormap\n",
    "\n",
    "directory_exposures = '../../input_data/exposures/'\n",
    "exposures_file = ''.join([directory_exposures, 'exposures_mortality_ch_', category, '.h5'])\n",
    "exposures = Exposures()\n",
    "exposures.read_hdf5(exposures_file)\n",
    "impact = impacts_mortality.median_matrix_as_impact(median_impact_matrices['RCP85'][2020]['U'], exposures, unit='Annual Heat Related Death (#)', percentage=False)\n",
    "#impact.plot_hexbin_impact_exposure(pop_name=False, cmap=cm, buffer=0.1)"
   ]
  },
  {
   "cell_type": "code",
   "execution_count": 5,
   "metadata": {},
   "outputs": [],
   "source": [
    "impact = impacts_mortality.median_matrix_as_impact(median_impact_matrices['RCP85'][2020]['U'], exposures, unit='Annual Heat Related Death (#)', percentage=False, canton='Basel-Stadt')\n",
    "#impact.plot_hexbin_impact_exposure(pop_name=False, cmap=cm, buffer=0.1)"
   ]
  },
  {
   "cell_type": "markdown",
   "metadata": {},
   "source": [
    "## Relative change map"
   ]
  },
  {
   "cell_type": "code",
   "execution_count": 8,
   "metadata": {},
   "outputs": [],
   "source": [
    "impacts_rel = Impact()\n",
    "impacts_rel_2050_rcp85 = ImpactsHeatMortality.compute_relative_change(median_impact_matrices['RCP85'][2050]['U'], median_impact_matrices['RCP85'][2020]['U'])\n",
    "impacts_rel_2050_rcp85.plot_hexbin_impact_exposure(pop_name=False, cmap=cm, buffer=0.1)"
   ]
  },
  {
   "cell_type": "markdown",
   "metadata": {},
   "source": [
    "## Canton Impacts"
   ]
  },
  {
   "cell_type": "code",
   "execution_count": 7,
   "metadata": {},
   "outputs": [
    {
     "name": "stdout",
     "output_type": "stream",
     "text": [
      "2020-10-27 14:50:12,784 - climada.entity.exposures.base - INFO - Reading ../../input_data/exposures/exposures_mortality_ch_O.h5\n",
      "2020-10-27 14:50:14,447 - climada.entity.exposures.base - INFO - centr_ not set.\n",
      "2020-10-27 14:50:14,448 - climada.entity.exposures.base - INFO - deductible not set.\n",
      "2020-10-27 14:50:14,449 - climada.entity.exposures.base - INFO - cover not set.\n",
      "2020-10-27 14:50:14,449 - climada.entity.exposures.base - INFO - category_id not set.\n",
      "2020-10-27 14:50:14,450 - climada.entity.exposures.base - INFO - region_id not set.\n",
      "2020-10-27 14:50:14,451 - climada.entity.exposures.base - INFO - Reading ../../input_data/exposures/exposures_mortality_ch_U.h5\n",
      "2020-10-27 14:50:16,210 - climada.entity.exposures.base - INFO - centr_ not set.\n",
      "2020-10-27 14:50:16,211 - climada.entity.exposures.base - INFO - deductible not set.\n",
      "2020-10-27 14:50:16,212 - climada.entity.exposures.base - INFO - cover not set.\n",
      "2020-10-27 14:50:16,212 - climada.entity.exposures.base - INFO - category_id not set.\n",
      "2020-10-27 14:50:16,213 - climada.entity.exposures.base - INFO - region_id not set.\n"
     ]
    }
   ],
   "source": [
    "pickle_in = \\\n",
    "open('../../output/mortality_results/impact_100mc.pickle','rb')\n",
    "impacts_mortality = pickle.load(pickle_in)\n",
    "\n",
    "agg_impacts_mc = impacts_mortality.agg_impacts_mc\n",
    "median_impact_matrices = impacts_mortality.median_impact_matrices\n",
    "\n",
    "directory_exposures = '../../input_data/exposures/'\n",
    "exposures = {}\n",
    "for category in ['O', 'U']:\n",
    "    exposures_file = ''.join([directory_exposures, 'exposures_mortality_ch_',category,'.h5'])\n",
    "    exposures[category] = Exposures()\n",
    "    exposures[category].read_hdf5(exposures_file)\n",
    "    #exposures[category] = Exposures(exposures[category])\n",
    "    exposures[category].check()\n",
    "\n",
    "agg_impact_zurich = impacts_mortality.calculate_impact_agg_canton('Zürich', exposures)"
   ]
  },
  {
   "cell_type": "code",
   "execution_count": 8,
   "metadata": {},
   "outputs": [
    {
     "data": {
      "image/png": "[encoded data removed]",
      "text/plain": [
       "<Figure size 432x288 with 1 Axes>"
      ]
     },
     "metadata": {
      "needs_background": "light"
     },
     "output_type": "display_data"
    }
   ],
   "source": [
    "plot_impacts_heat(agg_impact_zurich, 'Annual Heat Related Death (#)',uncertainty=False, color=['lightblue', 'royalblue'])"
   ]
  },
  {
   "cell_type": "code",
   "execution_count": null,
   "metadata": {},
   "outputs": [],
   "source": []
  }
 ],
 "metadata": {
  "kernelspec": {
   "display_name": "Python 3",
   "language": "python",
   "name": "python3"
  },
  "language_info": {
   "codemirror_mode": {
    "name": "ipython",
    "version": 3
   },
   "file_extension": ".py",
   "mimetype": "text/x-python",
   "name": "python",
   "nbconvert_exporter": "python",
   "pygments_lexer": "ipython3",
   "version": "3.7.3"
  }
 },
 "nbformat": 4,
 "nbformat_minor": 4
}
