{
 "cells": [
  {
   "cell_type": "markdown",
   "metadata": {},
   "source": [
    "# Sensibility Analysis for the Productivity Model\n"
   ]
  },
  {
   "cell_type": "code",
   "execution_count": 8,
   "metadata": {},
   "outputs": [],
   "source": [
    "import pickle\n",
    "import matplotlib.pyplot as plt\n",
    "import numpy as np\n",
    "fig_dir = '../../data_analysis/figures/'"
   ]
  },
  {
   "cell_type": "code",
   "execution_count": 14,
   "metadata": {},
   "outputs": [
    {
     "data": {
      "image/png": "[encoded data removed]",
      "text/plain": [
       "<Figure size 432x288 with 1 Axes>"
      ]
     },
     "metadata": {
      "needs_background": "light"
     },
     "output_type": "display_data"
    }
   ],
   "source": [
    "pickle_in =\\\n",
    "open('../../output/productivity_results/sensitivity_99mc.pickle','rb')\n",
    "sensitivity1 = pickle.load(pickle_in)\n",
    "\n",
    "sensitivity_files = [sensitivity1]\n",
    "\n",
    "diff_median_dict = {}\n",
    "\n",
    "c_=1\n",
    "for sensitivity in sensitivity_files:\n",
    "#add column with total loss:\n",
    "    for v_ in sensitivity:\n",
    "        for s_ in sensitivity[v_]:\n",
    "            for y_ in sensitivity[v_][s_]: \n",
    "                sensitivity[v_][s_][y_]['total'] = sensitivity[v_][s_][y_][list(sensitivity[v_][s_][y_].columns)].sum(axis=1)\n",
    "    \n",
    "    scenarios = ['RCP85']\n",
    "    y = '2050'\n",
    "    sensitivity_variables = ['Hourly Temperature', 'Sun Exposition', 'WBGT Transformation', 'Inside T transformation','Impact Functions','Climate Simulations','Natural Variability']\n",
    "\n",
    "    for s_ in scenarios:    \n",
    "        fig, ax = plt.subplots()\n",
    "        diff_median = [] #list with the difference to the difference to the median of each run\n",
    "        for v_ in sensitivity:\n",
    "            diff_median.append((sensitivity[v_][s_][y_]['total']-np.median(sensitivity[v_][s_][y_]['total']))/np.median(sensitivity[v_][s_][y_]['total'])*100)\n",
    "            diff_median_dict[v_] = ((sensitivity[v_][s_][y_]['total']-np.median(sensitivity[v_][s_][y_]['total']))/np.median(sensitivity[v_][s_][y_]['total'])*100)\n",
    "            if v_ != 'simulations':\n",
    "                c='lightcyan'\n",
    "                d='Grey'\n",
    "                box = ax.boxplot(diff_median, patch_artist=True, boxprops=dict(facecolor=c, color=d),\n",
    "            capprops=dict(color=d),\n",
    "            whiskerprops=dict(color=d),\n",
    "            flierprops=dict(color=d, markeredgecolor=d),\n",
    "            medianprops=dict(color='orange'))\n",
    "\n",
    "    \n",
    "        #ax.boxplot(diff_median, patch_artist=True)\n",
    "        ax.set_xticks([1,2,3,4,5,6,7])\n",
    "        ax.set_ylabel('Difference to Median Cost (%)')\n",
    "\n",
    "        #colors = ['powderblue' for n in range(len(box)+1)]\n",
    " \n",
    "        #for patch, color in zip(box['boxes'], colors):\n",
    "        #    patch.set_facecolor(color)\n",
    "        \n",
    "        ax.set_xticklabels(sensitivity_variables,rotation=90)\n",
    "        plt.savefig(''.join([fig_dir,'sensitivity_',s_,'_',y,'.pdf']),bbox_inches='tight')\n",
    "        c_=c_+1"
   ]
  },
  {
   "cell_type": "code",
   "execution_count": null,
   "metadata": {},
   "outputs": [],
   "source": [
    "print(np.quantile(diff_median_dict['temp_in'],0.975))\n",
    "print(np.quantile(diff_median_dict['t_to_wbgt'],0.975))\n",
    "print(np.quantile(diff_median_dict['simulations'],0.975))\n",
    "print(np.quantile(diff_median_dict['years'],0.975))\n",
    "print(np.quantile(diff_median_dict['impactfunction'],0.975))\n",
    "\n",
    "print(np.quantile(diff_median_dict['temp_in'],0.025))\n",
    "print(np.quantile(diff_median_dict['t_to_wbgt'],0.025))\n",
    "print(np.quantile(diff_median_dict['simulations'],0.025))\n",
    "print(np.quantile(diff_median_dict['years'],0.025))\n",
    "print(np.quantile(diff_median_dict['impactfunction'],0.025))\n",
    "\n"
   ]
  }
 ],
 "metadata": {
  "kernelspec": {
   "display_name": "Python 3",
   "language": "python",
   "name": "python3"
  },
  "language_info": {
   "codemirror_mode": {
    "name": "ipython",
    "version": 3
   },
   "file_extension": ".py",
   "mimetype": "text/x-python",
   "name": "python",
   "nbconvert_exporter": "python",
   "pygments_lexer": "ipython3",
   "version": "3.7.3"
  }
 },
 "nbformat": 4,
 "nbformat_minor": 2
}
